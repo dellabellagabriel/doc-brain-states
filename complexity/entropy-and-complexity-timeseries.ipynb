{
 "cells": [
  {
   "cell_type": "code",
   "execution_count": 1,
   "metadata": {},
   "outputs": [],
   "source": [
    "import numpy as np\n",
    "import scipy.io as sio\n",
    "import ordpy\n",
    "from glob import glob\n",
    "from pathlib import Path\n",
    "from tqdm import tqdm"
   ]
  },
  {
   "cell_type": "code",
   "execution_count": 2,
   "metadata": {},
   "outputs": [],
   "source": [
    "def mean_permutation_entropy(ts):\n",
    "    channels, samples = ts.shape\n",
    "    segment_length = 16*250\n",
    "    segments = int(samples / segment_length)\n",
    "\n",
    "    pe = []\n",
    "    sc = []\n",
    "    for channel in range(channels):\n",
    "        for segment in range(segments):\n",
    "            from_sample = segment*segment_length\n",
    "            to_sample = (segment+1)*segment_length\n",
    "            data = ts[channel, from_sample:to_sample]\n",
    "\n",
    "            permutation_entropy, statistical_complexity = ordpy.complexity_entropy(\n",
    "                    data, \n",
    "                    dx=3, \n",
    "                    dy=1, \n",
    "                    taux=1, \n",
    "                    tauy=1, \n",
    "                    probs=False, \n",
    "                    tie_precision=None\n",
    "            )\n",
    "\n",
    "            pe.append(permutation_entropy)\n",
    "            sc.append(statistical_complexity)\n",
    "        \n",
    "    return np.mean(pe), np.mean(sc)"
   ]
  },
  {
   "cell_type": "code",
   "execution_count": 4,
   "metadata": {},
   "outputs": [
    {
     "name": "stderr",
     "output_type": "stream",
     "text": [
      "  0%|          | 0/32 [00:00<?, ?it/s]"
     ]
    }
   ],
   "source": [
    "path = Path(\"/home/usuario/disco2/proyectos/interpolation/datasets/jaco/datos_128\")\n",
    "files = glob(f\"{path}/Healthy/*.mat\")\n",
    "\n",
    "pe_list = []\n",
    "sc_list = []\n",
    "for file in tqdm(files):\n",
    "    ts = sio.loadmat(file)[\"epochs_data\"]\n",
    "    ts = ts.reshape(128, -1)\n",
    "\n",
    "    pe, sc = mean_permutation_entropy(ts)\n",
    "    pe_list.append(pe)\n",
    "    sc_list.append(sc)\n",
    "\n",
    "sio.savemat(\"paris/pe_sc_healthy.mat\", {\"pe\": pe_list, \"sc\": sc_list})"
   ]
  }
 ],
 "metadata": {
  "language_info": {
   "name": "python"
  }
 },
 "nbformat": 4,
 "nbformat_minor": 2
}
