{
 "cells": [
  {
   "cell_type": "code",
   "execution_count": 3,
   "metadata": {
    "scrolled": true
   },
   "outputs": [],
   "source": [
    "import numpy as np\n",
    "import scipy.io as spio\n",
    "from sklearn.cluster import KMeans\n",
    "import time\n",
    "from kmeans_progress import KMeansProgress\n",
    "import mat73"
   ]
  },
  {
   "cell_type": "markdown",
   "metadata": {},
   "source": [
    "## import .mat file"
   ]
  },
  {
   "cell_type": "code",
   "execution_count": 7,
   "metadata": {
    "scrolled": true
   },
   "outputs": [],
   "source": [
    "DATASET_NAME = \"dataset_chronic\"\n",
    "dataset = spio.loadmat('dataset/{}.mat'.format(DATASET_NAME))['dataset']\n",
    "#dataset = mat73.loadmat('dataset/{}.mat'.format(DATASET_NAME))['dataset']"
   ]
  },
  {
   "cell_type": "code",
   "execution_count": 8,
   "metadata": {
    "scrolled": true
   },
   "outputs": [
    {
     "data": {
      "text/plain": [
       "(58800, 8128)"
      ]
     },
     "execution_count": 8,
     "metadata": {},
     "output_type": "execute_result"
    }
   ],
   "source": [
    "dataset.shape"
   ]
  },
  {
   "cell_type": "markdown",
   "metadata": {},
   "source": [
    "## run k-means"
   ]
  },
  {
   "cell_type": "code",
   "execution_count": null,
   "metadata": {
    "scrolled": true
   },
   "outputs": [],
   "source": [
    "init_time = time.time()\n",
    "\n",
    "kmp = KMeansProgress(\n",
    "    n_clusters = 5,\n",
    "    init = 'k-means++',\n",
    "    n_init = 100,\n",
    "    progress_path = 'progress',\n",
    "    n_checkpoints = 10\n",
    ")\n",
    "\n",
    "kmp.fit(dataset)\n",
    "\n",
    "final_time = time.time()\n",
    "print(final_time-init_time)"
   ]
  },
  {
   "cell_type": "code",
   "execution_count": null,
   "metadata": {
    "scrolled": true
   },
   "outputs": [],
   "source": [
    "\n",
    "\n",
    "\n",
    "\n"
   ]
  }
 ],
 "metadata": {
  "kernelspec": {
   "display_name": "Python 3",
   "language": "python",
   "name": "python3"
  },
  "language_info": {
   "codemirror_mode": {
    "name": "ipython",
    "version": 3
   },
   "file_extension": ".py",
   "mimetype": "text/x-python",
   "name": "python",
   "nbconvert_exporter": "python",
   "pygments_lexer": "ipython3",
   "version": "3.7.4"
  }
 },
 "nbformat": 4,
 "nbformat_minor": 5
}
